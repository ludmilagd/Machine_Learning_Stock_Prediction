{
  "nbformat": 4,
  "nbformat_minor": 0,
  "metadata": {
    "colab": {
      "name": "Untitled0.ipynb",
      "provenance": [],
      "collapsed_sections": []
    },
    "kernelspec": {
      "name": "python3",
      "display_name": "Python 3"
    }
  },
  "cells": [
    {
      "cell_type": "code",
      "metadata": {
        "id": "qWv4xTLyamTk"
      },
      "source": [
        "# Creating LSTM, Tree Prediction and Linear Regression - Final Project \r\n",
        "\r\n",
        "# On this LSTM Model 75% of the data was trained and 25%  was tested to predict Apple stock price using the past 60 days closing price.\r\n",
        "# The data was taken from Yahoo from 2010-01-04 until 2010-03-16.\r\n",
        "# The LSTM-rsme is 24.37\r\n",
        "# The predicted price for the March 17th = USS 123.5\r\n",
        "# The predicted price for the March 18th = USS 128.5\r\n",
        "\r\n",
        "\r\n",
        "# Dependencies\r\n",
        "import math\r\n",
        "import pandas_datareader as web\r\n",
        "from sklearn.preprocessing import MinMaxScaler\r\n",
        "import tensorflow as tf\r\n",
        "from keras.models import Sequential\r\n",
        "from keras.layers import Dense, LSTM\r\n",
        "import matplotlib.pyplot as plt\r\n",
        "import numpy as np\r\n",
        "import pandas as pd\r\n",
        "import datetime\r\n",
        "plt.style.use('fivethirtyeight')\r\n",
        "\r\n",
        "# second model\r\n",
        "from sklearn.tree import DecisionTreeRegressor\r\n",
        "from sklearn.linear_model import LinearRegression\r\n",
        "from sklearn.model_selection import train_test_split\r\n",
        "import matplotlib.pyplot as plt\r\n"
      ],
      "execution_count": null,
      "outputs": []
    },
    {
      "cell_type": "code",
      "metadata": {
        "colab": {
          "base_uri": "https://localhost:8080/",
          "height": 450
        },
        "id": "hTt2GKsDb-O4",
        "outputId": "d180a90a-de92-4e5d-eaa3-71c9b56b23af"
      },
      "source": [
        "# getting the Stock data\r\n",
        "\r\n",
        "endDate = datetime.datetime.now()\r\n",
        "AAPL_df = web.DataReader('AAPL', data_source='yahoo', start='2010-01-01', end = endDate)\r\n",
        "AAPL_df"
      ],
      "execution_count": null,
      "outputs": [
        {
          "output_type": "execute_result",
          "data": {
            "text/html": [
              "<div>\n",
              "<style scoped>\n",
              "    .dataframe tbody tr th:only-of-type {\n",
              "        vertical-align: middle;\n",
              "    }\n",
              "\n",
              "    .dataframe tbody tr th {\n",
              "        vertical-align: top;\n",
              "    }\n",
              "\n",
              "    .dataframe thead th {\n",
              "        text-align: right;\n",
              "    }\n",
              "</style>\n",
              "<table border=\"1\" class=\"dataframe\">\n",
              "  <thead>\n",
              "    <tr style=\"text-align: right;\">\n",
              "      <th></th>\n",
              "      <th>High</th>\n",
              "      <th>Low</th>\n",
              "      <th>Open</th>\n",
              "      <th>Close</th>\n",
              "      <th>Volume</th>\n",
              "      <th>Adj Close</th>\n",
              "    </tr>\n",
              "    <tr>\n",
              "      <th>Date</th>\n",
              "      <th></th>\n",
              "      <th></th>\n",
              "      <th></th>\n",
              "      <th></th>\n",
              "      <th></th>\n",
              "      <th></th>\n",
              "    </tr>\n",
              "  </thead>\n",
              "  <tbody>\n",
              "    <tr>\n",
              "      <th>2010-01-04</th>\n",
              "      <td>7.660714</td>\n",
              "      <td>7.585000</td>\n",
              "      <td>7.622500</td>\n",
              "      <td>7.643214</td>\n",
              "      <td>493729600.0</td>\n",
              "      <td>6.583586</td>\n",
              "    </tr>\n",
              "    <tr>\n",
              "      <th>2010-01-05</th>\n",
              "      <td>7.699643</td>\n",
              "      <td>7.616071</td>\n",
              "      <td>7.664286</td>\n",
              "      <td>7.656429</td>\n",
              "      <td>601904800.0</td>\n",
              "      <td>6.594968</td>\n",
              "    </tr>\n",
              "    <tr>\n",
              "      <th>2010-01-06</th>\n",
              "      <td>7.686786</td>\n",
              "      <td>7.526786</td>\n",
              "      <td>7.656429</td>\n",
              "      <td>7.534643</td>\n",
              "      <td>552160000.0</td>\n",
              "      <td>6.490066</td>\n",
              "    </tr>\n",
              "    <tr>\n",
              "      <th>2010-01-07</th>\n",
              "      <td>7.571429</td>\n",
              "      <td>7.466071</td>\n",
              "      <td>7.562500</td>\n",
              "      <td>7.520714</td>\n",
              "      <td>477131200.0</td>\n",
              "      <td>6.478067</td>\n",
              "    </tr>\n",
              "    <tr>\n",
              "      <th>2010-01-08</th>\n",
              "      <td>7.571429</td>\n",
              "      <td>7.466429</td>\n",
              "      <td>7.510714</td>\n",
              "      <td>7.570714</td>\n",
              "      <td>447610800.0</td>\n",
              "      <td>6.521136</td>\n",
              "    </tr>\n",
              "    <tr>\n",
              "      <th>...</th>\n",
              "      <td>...</td>\n",
              "      <td>...</td>\n",
              "      <td>...</td>\n",
              "      <td>...</td>\n",
              "      <td>...</td>\n",
              "      <td>...</td>\n",
              "    </tr>\n",
              "    <tr>\n",
              "      <th>2021-03-11</th>\n",
              "      <td>123.209999</td>\n",
              "      <td>121.260002</td>\n",
              "      <td>122.540001</td>\n",
              "      <td>121.959999</td>\n",
              "      <td>102753600.0</td>\n",
              "      <td>121.959999</td>\n",
              "    </tr>\n",
              "    <tr>\n",
              "      <th>2021-03-12</th>\n",
              "      <td>121.169998</td>\n",
              "      <td>119.160004</td>\n",
              "      <td>120.400002</td>\n",
              "      <td>121.029999</td>\n",
              "      <td>87963400.0</td>\n",
              "      <td>121.029999</td>\n",
              "    </tr>\n",
              "    <tr>\n",
              "      <th>2021-03-15</th>\n",
              "      <td>124.000000</td>\n",
              "      <td>120.419998</td>\n",
              "      <td>121.410004</td>\n",
              "      <td>123.989998</td>\n",
              "      <td>92403800.0</td>\n",
              "      <td>123.989998</td>\n",
              "    </tr>\n",
              "    <tr>\n",
              "      <th>2021-03-16</th>\n",
              "      <td>127.220001</td>\n",
              "      <td>124.720001</td>\n",
              "      <td>125.699997</td>\n",
              "      <td>125.570000</td>\n",
              "      <td>114740000.0</td>\n",
              "      <td>125.570000</td>\n",
              "    </tr>\n",
              "    <tr>\n",
              "      <th>2021-03-17</th>\n",
              "      <td>124.489998</td>\n",
              "      <td>122.339996</td>\n",
              "      <td>124.050003</td>\n",
              "      <td>123.764999</td>\n",
              "      <td>73145466.0</td>\n",
              "      <td>123.764999</td>\n",
              "    </tr>\n",
              "  </tbody>\n",
              "</table>\n",
              "<p>2820 rows × 6 columns</p>\n",
              "</div>"
            ],
            "text/plain": [
              "                  High         Low  ...       Volume   Adj Close\n",
              "Date                                ...                         \n",
              "2010-01-04    7.660714    7.585000  ...  493729600.0    6.583586\n",
              "2010-01-05    7.699643    7.616071  ...  601904800.0    6.594968\n",
              "2010-01-06    7.686786    7.526786  ...  552160000.0    6.490066\n",
              "2010-01-07    7.571429    7.466071  ...  477131200.0    6.478067\n",
              "2010-01-08    7.571429    7.466429  ...  447610800.0    6.521136\n",
              "...                ...         ...  ...          ...         ...\n",
              "2021-03-11  123.209999  121.260002  ...  102753600.0  121.959999\n",
              "2021-03-12  121.169998  119.160004  ...   87963400.0  121.029999\n",
              "2021-03-15  124.000000  120.419998  ...   92403800.0  123.989998\n",
              "2021-03-16  127.220001  124.720001  ...  114740000.0  125.570000\n",
              "2021-03-17  124.489998  122.339996  ...   73145466.0  123.764999\n",
              "\n",
              "[2820 rows x 6 columns]"
            ]
          },
          "metadata": {
            "tags": []
          },
          "execution_count": 34
        }
      ]
    },
    {
      "cell_type": "code",
      "metadata": {
        "colab": {
          "base_uri": "https://localhost:8080/"
        },
        "id": "CnDSBoZVGzgy",
        "outputId": "03b512c7-db70-4e10-cdf0-7305d74653d2"
      },
      "source": [
        "AAPL_df.shape"
      ],
      "execution_count": null,
      "outputs": [
        {
          "output_type": "execute_result",
          "data": {
            "text/plain": [
              "(2820, 6)"
            ]
          },
          "metadata": {
            "tags": []
          },
          "execution_count": 35
        }
      ]
    },
    {
      "cell_type": "code",
      "metadata": {
        "colab": {
          "base_uri": "https://localhost:8080/"
        },
        "id": "6NmZ0rO8blsm",
        "outputId": "77eba113-7210-4024-cc55-0e4e92f993a3"
      },
      "source": [
        "# create a closing price dataset\r\n",
        "Closing_Price_AAPL_df = AAPL_df.filter(['Close'])\r\n",
        "\r\n",
        "# convert the the closing price dataset to a array\r\n",
        "Closing_Price_array_AAPL_df = Closing_Price_AAPL_df.values\r\n",
        "\r\n",
        "Closing_Price_array_AAPL_df"
      ],
      "execution_count": null,
      "outputs": [
        {
          "output_type": "execute_result",
          "data": {
            "text/plain": [
              "array([[  7.64321423],\n",
              "       [  7.65642881],\n",
              "       [  7.53464317],\n",
              "       ...,\n",
              "       [123.98999786],\n",
              "       [125.56999969],\n",
              "       [123.76499939]])"
            ]
          },
          "metadata": {
            "tags": []
          },
          "execution_count": 36
        }
      ]
    },
    {
      "cell_type": "code",
      "metadata": {
        "colab": {
          "base_uri": "https://localhost:8080/"
        },
        "id": "491_6cAse8Kt",
        "outputId": "fd019235-3e45-42d4-aff6-e4e8aeaaf9e8"
      },
      "source": [
        "# get the number of rows to train the model on (75 %)\r\n",
        "train_closing_price_AAPL_len = math.ceil(len(Closing_Price_array_AAPL_df) * 0.75) # rounded up\r\n",
        "\r\n",
        "train_closing_price_AAPL_len"
      ],
      "execution_count": null,
      "outputs": [
        {
          "output_type": "execute_result",
          "data": {
            "text/plain": [
              "2115"
            ]
          },
          "metadata": {
            "tags": []
          },
          "execution_count": 37
        }
      ]
    },
    {
      "cell_type": "code",
      "metadata": {
        "colab": {
          "base_uri": "https://localhost:8080/"
        },
        "id": "3AYQTVJbgRyy",
        "outputId": "0f45d2aa-1116-4864-d777-9221731088f6"
      },
      "source": [
        "# Scale de closing price dataset between 0 and 1\r\n",
        "scale_AAPL = MinMaxScaler(feature_range=(0,1))\r\n",
        "scaled_closing_price_AAPL_df = scale_AAPL.fit_transform(Closing_Price_array_AAPL_df)\r\n",
        "scaled_closing_price_AAPL_df"
      ],
      "execution_count": null,
      "outputs": [
        {
          "output_type": "execute_result",
          "data": {
            "text/plain": [
              "array([[0.00575406],\n",
              "       [0.00585102],\n",
              "       [0.00495751],\n",
              "       ...,\n",
              "       [0.85935543],\n",
              "       [0.87094743],\n",
              "       [0.85770469]])"
            ]
          },
          "metadata": {
            "tags": []
          },
          "execution_count": 38
        }
      ]
    },
    {
      "cell_type": "code",
      "metadata": {
        "id": "vM4u6NXIiRT_"
      },
      "source": [
        "# Training Data\r\n",
        "train_closing_price_AAPL = scaled_closing_price_AAPL_df[0:train_closing_price_AAPL_len, :]\r\n",
        "# Split Data\r\n",
        "x_train =[]\r\n",
        "y_train=[]\r\n",
        "\r\n",
        "for i in range(60, len(train_closing_price_AAPL)):\r\n",
        "  x_train.append(train_closing_price_AAPL[i-60:i,0])\r\n",
        "  y_train.append(train_closing_price_AAPL[i,0])\r\n"
      ],
      "execution_count": null,
      "outputs": []
    },
    {
      "cell_type": "code",
      "metadata": {
        "id": "59u2na0ZJ6Vg"
      },
      "source": [
        "# convert to numpy arrays\r\n",
        "x_train = np.array(x_train)\r\n",
        "y_train = np.array(y_train)\r\n"
      ],
      "execution_count": null,
      "outputs": []
    },
    {
      "cell_type": "code",
      "metadata": {
        "id": "ymk9yUhaL6V4"
      },
      "source": [
        "# Reshape the dataset\r\n",
        "x_train = np.reshape(x_train, (x_train.shape[0],x_train.shape[1],1))"
      ],
      "execution_count": null,
      "outputs": []
    },
    {
      "cell_type": "code",
      "metadata": {
        "colab": {
          "base_uri": "https://localhost:8080/"
        },
        "id": "oTu98pgvKzrQ",
        "outputId": "9be47811-1057-4a9f-9183-5f0251559ff0"
      },
      "source": [
        "x_train.shape"
      ],
      "execution_count": null,
      "outputs": [
        {
          "output_type": "execute_result",
          "data": {
            "text/plain": [
              "(2055, 60, 1)"
            ]
          },
          "metadata": {
            "tags": []
          },
          "execution_count": 42
        }
      ]
    },
    {
      "cell_type": "code",
      "metadata": {
        "id": "voJohWBaiOYr"
      },
      "source": [
        "# Building the LSTM model\r\n",
        "#x_train = tf.convert_to_tensor(x_train)\r\n",
        "#y_train = tf.convert_to_tensor(y_train)\r\n",
        "\r\n",
        "AAPL_model = Sequential()\r\n",
        "AAPL_model.add(LSTM(50, return_sequences=True, input_shape= (x_train.shape[1],1)))\r\n",
        "AAPL_model.add(LSTM(50, return_sequences=False))\r\n",
        "AAPL_model.add(Dense(25))\r\n",
        "AAPL_model.add(Dense(1))"
      ],
      "execution_count": null,
      "outputs": []
    },
    {
      "cell_type": "code",
      "metadata": {
        "id": "8IntKy1TU_1F"
      },
      "source": [
        "# Compile  the LSTM model\r\n",
        "AAPL_model.compile(optimizer='adam', loss='mean_squared_error')\r\n",
        "#'categorical_crossentropy'"
      ],
      "execution_count": null,
      "outputs": []
    },
    {
      "cell_type": "code",
      "metadata": {
        "colab": {
          "base_uri": "https://localhost:8080/"
        },
        "id": "sKBZM4h_ZS-Z",
        "outputId": "ace6840d-db25-4d36-87a7-f832d5527ac8"
      },
      "source": [
        "# training the AAPL_model\r\n",
        "AAPL_model.fit(x_train,y_train,epochs=1,batch_size=1)"
      ],
      "execution_count": null,
      "outputs": [
        {
          "output_type": "stream",
          "text": [
            "2055/2055 [==============================] - 53s 24ms/step - loss: 5.0463e-04\n"
          ],
          "name": "stdout"
        },
        {
          "output_type": "execute_result",
          "data": {
            "text/plain": [
              "<tensorflow.python.keras.callbacks.History at 0x7f6519ae3e90>"
            ]
          },
          "metadata": {
            "tags": []
          },
          "execution_count": 45
        }
      ]
    },
    {
      "cell_type": "code",
      "metadata": {
        "id": "zRI6eEVtdBSE"
      },
      "source": [
        "# Setting the testing Dataset\r\n",
        "# Setting the scaled testing dataset \r\n",
        "AAPL_test_dataset= scaled_closing_price_AAPL_df[train_closing_price_AAPL_len - 60: , :]\r\n",
        "\r\n",
        "#setting the x and y test data\r\n",
        "x_test = []\r\n",
        "y_test = Closing_Price_array_AAPL_df[train_closing_price_AAPL_len, :]\r\n",
        "for i in range(60,len(AAPL_test_dataset)):\r\n",
        "    x_test.append(AAPL_test_dataset[i-60:i, 0])\r\n"
      ],
      "execution_count": null,
      "outputs": []
    },
    {
      "cell_type": "code",
      "metadata": {
        "id": "E5s3J3f3egyx"
      },
      "source": [
        "# Convert the test dataset to array\r\n",
        "x_test = np.array(x_test)\r\n",
        "#print (x_test)"
      ],
      "execution_count": null,
      "outputs": []
    },
    {
      "cell_type": "code",
      "metadata": {
        "id": "3P7Smg6far6X"
      },
      "source": [
        "#reshape the test dataset\r\n",
        "x_test = np.reshape(x_test, (x_test.shape[0],x_test.shape[1],1))"
      ],
      "execution_count": null,
      "outputs": []
    },
    {
      "cell_type": "code",
      "metadata": {
        "colab": {
          "base_uri": "https://localhost:8080/"
        },
        "id": "uQLWL1VamH4a",
        "outputId": "eb41bc14-6e9b-4b4d-d2bc-6d427df2ac9a"
      },
      "source": [
        "x_test.shape"
      ],
      "execution_count": null,
      "outputs": [
        {
          "output_type": "execute_result",
          "data": {
            "text/plain": [
              "(705, 60, 1)"
            ]
          },
          "metadata": {
            "tags": []
          },
          "execution_count": 51
        }
      ]
    },
    {
      "cell_type": "code",
      "metadata": {
        "id": "W-gWpmJSmR3H"
      },
      "source": [
        "# getting the model predicted closing price value\r\n",
        "predictions = AAPL_model.predict(x_test)\r\n",
        "predictions = scale_AAPL.inverse_transform(predictions)"
      ],
      "execution_count": null,
      "outputs": []
    },
    {
      "cell_type": "code",
      "metadata": {
        "colab": {
          "base_uri": "https://localhost:8080/"
        },
        "id": "VPySoSOGmqX3",
        "outputId": "413f3d24-ff87-4f93-92da-f75e87c62199"
      },
      "source": [
        "# getting the root mean squared error \r\n",
        "rmse = np.sqrt(np.mean(predictions - y_test) **2)\r\n",
        "print ('the rmse for the model is: ', rmse)"
      ],
      "execution_count": null,
      "outputs": [
        {
          "output_type": "stream",
          "text": [
            "the rmse for the model is:  24.37657392785904\n"
          ],
          "name": "stdout"
        }
      ]
    },
    {
      "cell_type": "code",
      "metadata": {
        "colab": {
          "base_uri": "https://localhost:8080/"
        },
        "id": "nTioGxeV-7Lz",
        "outputId": "fdba25be-0d18-460a-cb88-7ee7d5938e0c"
      },
      "source": [
        "# Predict future data\r\n",
        "\r\n",
        "apple_data = web.DataReader('AAPL', data_source='yahoo', start = '2010-01-01', end=endDate)\r\n",
        "\r\n",
        "\r\n",
        "# new df\r\n",
        "new_df = apple_data.filter(['Close'])\r\n",
        "\r\n",
        "#get the last 60 days closing price values and convert the dataframe to an array\r\n",
        "last_60_days = new_df[-60:].values\r\n",
        "\r\n",
        "#Scale the data to be values between 0 and 1\r\n",
        "last_60_days_scaled = scale_AAPL.transform(last_60_days)\r\n",
        "\r\n",
        "#Create ant empty list\r\n",
        "X_test = []\r\n",
        "\r\n",
        "#Append the past 60 days\r\n",
        "X_test.append(last_60_days_scaled)\r\n",
        "\r\n",
        "#convert the Xtest data set to a numpy array\r\n",
        "X_test =np.array(X_test)\r\n",
        "\r\n",
        "#get predicted scaled price\r\n",
        "pred_price = AAPL_model.predict(X_test)\r\n",
        "\r\n",
        "#Reshape the data\r\n",
        "X_test = np.reshape(X_test,(X_test.shape[0], X_test.shape[1],1))\r\n",
        "\r\n",
        "#Get the predicted scale price\r\n",
        "pred_price = AAPL_model.predict(X_test)\r\n",
        "\r\n",
        "#undo the scaling\r\n",
        "pred_price = scale_AAPL.inverse_transform(pred_price)\r\n",
        "\r\n",
        "print(f'Predicted price for tomorrow is:', pred_price)\r\n"
      ],
      "execution_count": null,
      "outputs": [
        {
          "output_type": "stream",
          "text": [
            "Predicted price for tomorrow is: [[128.54088]]\n"
          ],
          "name": "stdout"
        }
      ]
    },
    {
      "cell_type": "code",
      "metadata": {
        "colab": {
          "base_uri": "https://localhost:8080/",
          "height": 677
        },
        "id": "0leszgAPqgKu",
        "outputId": "96820227-9ef8-40d1-ecbf-7266832d65fd"
      },
      "source": [
        "# Plot the Dataset\r\n",
        "train_data = Closing_Price_AAPL_df[:train_closing_price_AAPL_len]\r\n",
        "validation_data = Closing_Price_AAPL_df[train_closing_price_AAPL_len:]\r\n",
        "\r\n",
        "validation_data['Predictions'] = predictions\r\n",
        "plt.figure(figsize=(16,8))\r\n",
        "plt.title('AAPL - LSTM Model', color='crimson')\r\n",
        "plt.xlabel('date', color='crimson')\r\n",
        "plt.ylabel('closing price USD', color='crimson')\r\n",
        "plt.plot(train_data['Close'], color='green')\r\n",
        "plt.plot(validation_data['Close'], color='blue')\r\n",
        "plt.plot(validation_data['Predictions'], color = 'red')\r\n",
        "plt.legend(['Train', 'Validation', 'Predictions'])\r\n"
      ],
      "execution_count": null,
      "outputs": [
        {
          "output_type": "stream",
          "text": [
            "/usr/local/lib/python3.7/dist-packages/ipykernel_launcher.py:5: SettingWithCopyWarning: \n",
            "A value is trying to be set on a copy of a slice from a DataFrame.\n",
            "Try using .loc[row_indexer,col_indexer] = value instead\n",
            "\n",
            "See the caveats in the documentation: https://pandas.pydata.org/pandas-docs/stable/user_guide/indexing.html#returning-a-view-versus-a-copy\n",
            "  \"\"\"\n"
          ],
          "name": "stderr"
        },
        {
          "output_type": "execute_result",
          "data": {
            "text/plain": [
              "<matplotlib.legend.Legend at 0x7f3f0b815b10>"
            ]
          },
          "metadata": {
            "tags": []
          },
          "execution_count": 259
        },
        {
          "output_type": "display_data",
          "data": {
            "image/png": "[encoded data removed]",
            "text/plain": [
              "<Figure size 1152x576 with 1 Axes>"
            ]
          },
          "metadata": {
            "tags": []
          }
        }
      ]
    },
    {
      "cell_type": "code",
      "metadata": {
        "id": "lYSSw-HgNtqJ",
        "colab": {
          "base_uri": "https://localhost:8080/",
          "height": 450
        },
        "outputId": "5c5bfd79-84f1-4ca3-ac25-216c368de7cd"
      },
      "source": [
        "validation_data "
      ],
      "execution_count": null,
      "outputs": [
        {
          "output_type": "execute_result",
          "data": {
            "text/html": [
              "<div>\n",
              "<style scoped>\n",
              "    .dataframe tbody tr th:only-of-type {\n",
              "        vertical-align: middle;\n",
              "    }\n",
              "\n",
              "    .dataframe tbody tr th {\n",
              "        vertical-align: top;\n",
              "    }\n",
              "\n",
              "    .dataframe thead th {\n",
              "        text-align: right;\n",
              "    }\n",
              "</style>\n",
              "<table border=\"1\" class=\"dataframe\">\n",
              "  <thead>\n",
              "    <tr style=\"text-align: right;\">\n",
              "      <th></th>\n",
              "      <th>Close</th>\n",
              "      <th>Predictions</th>\n",
              "    </tr>\n",
              "    <tr>\n",
              "      <th>Date</th>\n",
              "      <th></th>\n",
              "      <th></th>\n",
              "    </tr>\n",
              "  </thead>\n",
              "  <tbody>\n",
              "    <tr>\n",
              "      <th>2018-05-30</th>\n",
              "      <td>46.875000</td>\n",
              "      <td>48.814686</td>\n",
              "    </tr>\n",
              "    <tr>\n",
              "      <th>2018-05-31</th>\n",
              "      <td>46.717499</td>\n",
              "      <td>48.830875</td>\n",
              "    </tr>\n",
              "    <tr>\n",
              "      <th>2018-06-01</th>\n",
              "      <td>47.560001</td>\n",
              "      <td>48.815380</td>\n",
              "    </tr>\n",
              "    <tr>\n",
              "      <th>2018-06-04</th>\n",
              "      <td>47.957500</td>\n",
              "      <td>48.893299</td>\n",
              "    </tr>\n",
              "    <tr>\n",
              "      <th>2018-06-05</th>\n",
              "      <td>48.327499</td>\n",
              "      <td>49.054424</td>\n",
              "    </tr>\n",
              "    <tr>\n",
              "      <th>...</th>\n",
              "      <td>...</td>\n",
              "      <td>...</td>\n",
              "    </tr>\n",
              "    <tr>\n",
              "      <th>2021-03-10</th>\n",
              "      <td>119.980003</td>\n",
              "      <td>122.753082</td>\n",
              "    </tr>\n",
              "    <tr>\n",
              "      <th>2021-03-11</th>\n",
              "      <td>121.959999</td>\n",
              "      <td>122.350342</td>\n",
              "    </tr>\n",
              "    <tr>\n",
              "      <th>2021-03-12</th>\n",
              "      <td>121.029999</td>\n",
              "      <td>122.336143</td>\n",
              "    </tr>\n",
              "    <tr>\n",
              "      <th>2021-03-15</th>\n",
              "      <td>123.989998</td>\n",
              "      <td>122.348122</td>\n",
              "    </tr>\n",
              "    <tr>\n",
              "      <th>2021-03-16</th>\n",
              "      <td>125.570000</td>\n",
              "      <td>122.775299</td>\n",
              "    </tr>\n",
              "  </tbody>\n",
              "</table>\n",
              "<p>704 rows × 2 columns</p>\n",
              "</div>"
            ],
            "text/plain": [
              "                 Close  Predictions\n",
              "Date                               \n",
              "2018-05-30   46.875000    48.814686\n",
              "2018-05-31   46.717499    48.830875\n",
              "2018-06-01   47.560001    48.815380\n",
              "2018-06-04   47.957500    48.893299\n",
              "2018-06-05   48.327499    49.054424\n",
              "...                ...          ...\n",
              "2021-03-10  119.980003   122.753082\n",
              "2021-03-11  121.959999   122.350342\n",
              "2021-03-12  121.029999   122.336143\n",
              "2021-03-15  123.989998   122.348122\n",
              "2021-03-16  125.570000   122.775299\n",
              "\n",
              "[704 rows x 2 columns]"
            ]
          },
          "metadata": {
            "tags": []
          },
          "execution_count": 175
        }
      ]
    },
    {
      "cell_type": "markdown",
      "metadata": {
        "id": "W52kcusv4a8b"
      },
      "source": [
        "# Second Model Linear Regression and Tree Model\r\n"
      ]
    },
    {
      "cell_type": "code",
      "metadata": {
        "colab": {
          "base_uri": "https://localhost:8080/",
          "height": 235
        },
        "id": "5fufNXdbG098",
        "outputId": "f1461b6a-5104-48d9-de0a-420b87495177"
      },
      "source": [
        "AAPL_df.head()\r\n"
      ],
      "execution_count": null,
      "outputs": [
        {
          "output_type": "execute_result",
          "data": {
            "text/html": [
              "<div>\n",
              "<style scoped>\n",
              "    .dataframe tbody tr th:only-of-type {\n",
              "        vertical-align: middle;\n",
              "    }\n",
              "\n",
              "    .dataframe tbody tr th {\n",
              "        vertical-align: top;\n",
              "    }\n",
              "\n",
              "    .dataframe thead th {\n",
              "        text-align: right;\n",
              "    }\n",
              "</style>\n",
              "<table border=\"1\" class=\"dataframe\">\n",
              "  <thead>\n",
              "    <tr style=\"text-align: right;\">\n",
              "      <th></th>\n",
              "      <th>High</th>\n",
              "      <th>Low</th>\n",
              "      <th>Open</th>\n",
              "      <th>Close</th>\n",
              "      <th>Volume</th>\n",
              "      <th>Adj Close</th>\n",
              "    </tr>\n",
              "    <tr>\n",
              "      <th>Date</th>\n",
              "      <th></th>\n",
              "      <th></th>\n",
              "      <th></th>\n",
              "      <th></th>\n",
              "      <th></th>\n",
              "      <th></th>\n",
              "    </tr>\n",
              "  </thead>\n",
              "  <tbody>\n",
              "    <tr>\n",
              "      <th>2010-01-04</th>\n",
              "      <td>7.660714</td>\n",
              "      <td>7.585000</td>\n",
              "      <td>7.622500</td>\n",
              "      <td>7.643214</td>\n",
              "      <td>493729600.0</td>\n",
              "      <td>6.583586</td>\n",
              "    </tr>\n",
              "    <tr>\n",
              "      <th>2010-01-05</th>\n",
              "      <td>7.699643</td>\n",
              "      <td>7.616071</td>\n",
              "      <td>7.664286</td>\n",
              "      <td>7.656429</td>\n",
              "      <td>601904800.0</td>\n",
              "      <td>6.594968</td>\n",
              "    </tr>\n",
              "    <tr>\n",
              "      <th>2010-01-06</th>\n",
              "      <td>7.686786</td>\n",
              "      <td>7.526786</td>\n",
              "      <td>7.656429</td>\n",
              "      <td>7.534643</td>\n",
              "      <td>552160000.0</td>\n",
              "      <td>6.490066</td>\n",
              "    </tr>\n",
              "    <tr>\n",
              "      <th>2010-01-07</th>\n",
              "      <td>7.571429</td>\n",
              "      <td>7.466071</td>\n",
              "      <td>7.562500</td>\n",
              "      <td>7.520714</td>\n",
              "      <td>477131200.0</td>\n",
              "      <td>6.478067</td>\n",
              "    </tr>\n",
              "    <tr>\n",
              "      <th>2010-01-08</th>\n",
              "      <td>7.571429</td>\n",
              "      <td>7.466429</td>\n",
              "      <td>7.510714</td>\n",
              "      <td>7.570714</td>\n",
              "      <td>447610800.0</td>\n",
              "      <td>6.521136</td>\n",
              "    </tr>\n",
              "  </tbody>\n",
              "</table>\n",
              "</div>"
            ],
            "text/plain": [
              "                High       Low      Open     Close       Volume  Adj Close\n",
              "Date                                                                      \n",
              "2010-01-04  7.660714  7.585000  7.622500  7.643214  493729600.0   6.583586\n",
              "2010-01-05  7.699643  7.616071  7.664286  7.656429  601904800.0   6.594968\n",
              "2010-01-06  7.686786  7.526786  7.656429  7.534643  552160000.0   6.490066\n",
              "2010-01-07  7.571429  7.466071  7.562500  7.520714  477131200.0   6.478067\n",
              "2010-01-08  7.571429  7.466429  7.510714  7.570714  447610800.0   6.521136"
            ]
          },
          "metadata": {
            "tags": []
          },
          "execution_count": 223
        }
      ]
    },
    {
      "cell_type": "code",
      "metadata": {
        "colab": {
          "base_uri": "https://localhost:8080/"
        },
        "id": "B0vzCEarHBr4",
        "outputId": "01b2f065-8d0f-4533-ab13-f70b476771f6"
      },
      "source": [
        "AAPL_df.shape"
      ],
      "execution_count": null,
      "outputs": [
        {
          "output_type": "execute_result",
          "data": {
            "text/plain": [
              "(2819, 6)"
            ]
          },
          "metadata": {
            "tags": []
          },
          "execution_count": 224
        }
      ]
    },
    {
      "cell_type": "code",
      "metadata": {
        "colab": {
          "base_uri": "https://localhost:8080/",
          "height": 450
        },
        "id": "naeK8kApHIpO",
        "outputId": "f3735441-c2f9-461d-8ecd-0dd412ed2058"
      },
      "source": [
        "# Getting the close price\r\n",
        "Close_df = AAPL_df[['Close']]\r\n",
        "Close_df\r\n",
        "\r\n"
      ],
      "execution_count": null,
      "outputs": [
        {
          "output_type": "execute_result",
          "data": {
            "text/html": [
              "<div>\n",
              "<style scoped>\n",
              "    .dataframe tbody tr th:only-of-type {\n",
              "        vertical-align: middle;\n",
              "    }\n",
              "\n",
              "    .dataframe tbody tr th {\n",
              "        vertical-align: top;\n",
              "    }\n",
              "\n",
              "    .dataframe thead th {\n",
              "        text-align: right;\n",
              "    }\n",
              "</style>\n",
              "<table border=\"1\" class=\"dataframe\">\n",
              "  <thead>\n",
              "    <tr style=\"text-align: right;\">\n",
              "      <th></th>\n",
              "      <th>Close</th>\n",
              "    </tr>\n",
              "    <tr>\n",
              "      <th>Date</th>\n",
              "      <th></th>\n",
              "    </tr>\n",
              "  </thead>\n",
              "  <tbody>\n",
              "    <tr>\n",
              "      <th>2010-01-04</th>\n",
              "      <td>7.643214</td>\n",
              "    </tr>\n",
              "    <tr>\n",
              "      <th>2010-01-05</th>\n",
              "      <td>7.656429</td>\n",
              "    </tr>\n",
              "    <tr>\n",
              "      <th>2010-01-06</th>\n",
              "      <td>7.534643</td>\n",
              "    </tr>\n",
              "    <tr>\n",
              "      <th>2010-01-07</th>\n",
              "      <td>7.520714</td>\n",
              "    </tr>\n",
              "    <tr>\n",
              "      <th>2010-01-08</th>\n",
              "      <td>7.570714</td>\n",
              "    </tr>\n",
              "    <tr>\n",
              "      <th>...</th>\n",
              "      <td>...</td>\n",
              "    </tr>\n",
              "    <tr>\n",
              "      <th>2021-03-10</th>\n",
              "      <td>119.980003</td>\n",
              "    </tr>\n",
              "    <tr>\n",
              "      <th>2021-03-11</th>\n",
              "      <td>121.959999</td>\n",
              "    </tr>\n",
              "    <tr>\n",
              "      <th>2021-03-12</th>\n",
              "      <td>121.029999</td>\n",
              "    </tr>\n",
              "    <tr>\n",
              "      <th>2021-03-15</th>\n",
              "      <td>123.989998</td>\n",
              "    </tr>\n",
              "    <tr>\n",
              "      <th>2021-03-16</th>\n",
              "      <td>125.570000</td>\n",
              "    </tr>\n",
              "  </tbody>\n",
              "</table>\n",
              "<p>2819 rows × 1 columns</p>\n",
              "</div>"
            ],
            "text/plain": [
              "                 Close\n",
              "Date                  \n",
              "2010-01-04    7.643214\n",
              "2010-01-05    7.656429\n",
              "2010-01-06    7.534643\n",
              "2010-01-07    7.520714\n",
              "2010-01-08    7.570714\n",
              "...                ...\n",
              "2021-03-10  119.980003\n",
              "2021-03-11  121.959999\n",
              "2021-03-12  121.029999\n",
              "2021-03-15  123.989998\n",
              "2021-03-16  125.570000\n",
              "\n",
              "[2819 rows x 1 columns]"
            ]
          },
          "metadata": {
            "tags": []
          },
          "execution_count": 225
        }
      ]
    },
    {
      "cell_type": "code",
      "metadata": {
        "colab": {
          "base_uri": "https://localhost:8080/",
          "height": 337
        },
        "id": "a3CtjUHaHztY",
        "outputId": "551746c6-63ec-4cef-b97e-ac935d842ccf"
      },
      "source": [
        "# Creating variable to predict 30 days future\r\n",
        "future = 30\r\n",
        "\r\n",
        "# new column\r\n",
        "Close_df['Prediction'] = Close_df[['Close']].shift(-future)\r\n",
        "\r\n",
        "# Prediction columns\r\n",
        "Close_df.tail()\r\n",
        "\r\n",
        "\r\n"
      ],
      "execution_count": null,
      "outputs": [
        {
          "output_type": "stream",
          "text": [
            "/usr/local/lib/python3.7/dist-packages/ipykernel_launcher.py:5: SettingWithCopyWarning: \n",
            "A value is trying to be set on a copy of a slice from a DataFrame.\n",
            "Try using .loc[row_indexer,col_indexer] = value instead\n",
            "\n",
            "See the caveats in the documentation: https://pandas.pydata.org/pandas-docs/stable/user_guide/indexing.html#returning-a-view-versus-a-copy\n",
            "  \"\"\"\n"
          ],
          "name": "stderr"
        },
        {
          "output_type": "execute_result",
          "data": {
            "text/html": [
              "<div>\n",
              "<style scoped>\n",
              "    .dataframe tbody tr th:only-of-type {\n",
              "        vertical-align: middle;\n",
              "    }\n",
              "\n",
              "    .dataframe tbody tr th {\n",
              "        vertical-align: top;\n",
              "    }\n",
              "\n",
              "    .dataframe thead th {\n",
              "        text-align: right;\n",
              "    }\n",
              "</style>\n",
              "<table border=\"1\" class=\"dataframe\">\n",
              "  <thead>\n",
              "    <tr style=\"text-align: right;\">\n",
              "      <th></th>\n",
              "      <th>Close</th>\n",
              "      <th>Prediction</th>\n",
              "    </tr>\n",
              "    <tr>\n",
              "      <th>Date</th>\n",
              "      <th></th>\n",
              "      <th></th>\n",
              "    </tr>\n",
              "  </thead>\n",
              "  <tbody>\n",
              "    <tr>\n",
              "      <th>2021-03-10</th>\n",
              "      <td>119.980003</td>\n",
              "      <td>NaN</td>\n",
              "    </tr>\n",
              "    <tr>\n",
              "      <th>2021-03-11</th>\n",
              "      <td>121.959999</td>\n",
              "      <td>NaN</td>\n",
              "    </tr>\n",
              "    <tr>\n",
              "      <th>2021-03-12</th>\n",
              "      <td>121.029999</td>\n",
              "      <td>NaN</td>\n",
              "    </tr>\n",
              "    <tr>\n",
              "      <th>2021-03-15</th>\n",
              "      <td>123.989998</td>\n",
              "      <td>NaN</td>\n",
              "    </tr>\n",
              "    <tr>\n",
              "      <th>2021-03-16</th>\n",
              "      <td>125.570000</td>\n",
              "      <td>NaN</td>\n",
              "    </tr>\n",
              "  </tbody>\n",
              "</table>\n",
              "</div>"
            ],
            "text/plain": [
              "                 Close  Prediction\n",
              "Date                              \n",
              "2021-03-10  119.980003         NaN\n",
              "2021-03-11  121.959999         NaN\n",
              "2021-03-12  121.029999         NaN\n",
              "2021-03-15  123.989998         NaN\n",
              "2021-03-16  125.570000         NaN"
            ]
          },
          "metadata": {
            "tags": []
          },
          "execution_count": 226
        }
      ]
    },
    {
      "cell_type": "code",
      "metadata": {
        "colab": {
          "base_uri": "https://localhost:8080/",
          "height": 197
        },
        "id": "jX2UQJyWJc8_",
        "outputId": "b237da72-fa1a-41c4-d210-882ab834f192"
      },
      "source": [
        "# Created the future Dataset --30\r\n",
        "X_value =np.array(Close_df.drop(['Prediction'],1))[:-future]\r\n",
        "X_value\r\n"
      ],
      "execution_count": null,
      "outputs": [
        {
          "output_type": "error",
          "ename": "NameError",
          "evalue": "ignored",
          "traceback": [
            "\u001b[0;31m---------------------------------------------------------------------------\u001b[0m",
            "\u001b[0;31mNameError\u001b[0m                                 Traceback (most recent call last)",
            "\u001b[0;32m<ipython-input-31-a5a8f6e364c2>\u001b[0m in \u001b[0;36m<module>\u001b[0;34m()\u001b[0m\n\u001b[1;32m      1\u001b[0m \u001b[0;31m# Created the future Dataset --30\u001b[0m\u001b[0;34m\u001b[0m\u001b[0;34m\u001b[0m\u001b[0;34m\u001b[0m\u001b[0m\n\u001b[0;32m----> 2\u001b[0;31m \u001b[0mX_value\u001b[0m \u001b[0;34m=\u001b[0m\u001b[0mnp\u001b[0m\u001b[0;34m.\u001b[0m\u001b[0marray\u001b[0m\u001b[0;34m(\u001b[0m\u001b[0mClose_df\u001b[0m\u001b[0;34m.\u001b[0m\u001b[0mdrop\u001b[0m\u001b[0;34m(\u001b[0m\u001b[0;34m[\u001b[0m\u001b[0;34m'Prediction'\u001b[0m\u001b[0;34m]\u001b[0m\u001b[0;34m,\u001b[0m\u001b[0;36m1\u001b[0m\u001b[0;34m)\u001b[0m\u001b[0;34m)\u001b[0m\u001b[0;34m[\u001b[0m\u001b[0;34m:\u001b[0m\u001b[0;34m-\u001b[0m\u001b[0mfuture\u001b[0m\u001b[0;34m]\u001b[0m\u001b[0;34m\u001b[0m\u001b[0;34m\u001b[0m\u001b[0m\n\u001b[0m\u001b[1;32m      3\u001b[0m \u001b[0mX_value\u001b[0m\u001b[0;34m\u001b[0m\u001b[0;34m\u001b[0m\u001b[0m\n",
            "\u001b[0;31mNameError\u001b[0m: name 'Close_df' is not defined"
          ]
        }
      ]
    },
    {
      "cell_type": "code",
      "metadata": {
        "colab": {
          "base_uri": "https://localhost:8080/"
        },
        "id": "Cvjz_511KaF4",
        "outputId": "772bef00-737b-49e4-8558-05e4f9c42391"
      },
      "source": [
        "# Created a Target dataset and converted to an array\r\n",
        "y_value = np.array(Close_df['Prediction'])[:-future]\r\n",
        "y_value\r\n",
        "\r\n"
      ],
      "execution_count": null,
      "outputs": [
        {
          "output_type": "execute_result",
          "data": {
            "text/plain": [
              "array([  7.23392916,   7.24749994,   7.20249987, ..., 121.02999878,\n",
              "       123.98999786, 125.56999969])"
            ]
          },
          "metadata": {
            "tags": []
          },
          "execution_count": 228
        }
      ]
    },
    {
      "cell_type": "code",
      "metadata": {
        "colab": {
          "base_uri": "https://localhost:8080/",
          "height": 197
        },
        "id": "nT6iMIRnLbDQ",
        "outputId": "f2401bd4-0d75-4546-a15a-f56a3c5058b7"
      },
      "source": [
        "# Split Data --training 75% and testing 25%\r\n",
        "x_train, xtest, y_train, y_test = train_test_split(X_value,y_value, test_size = 0.25)\r\n",
        "xtest.shape"
      ],
      "execution_count": null,
      "outputs": [
        {
          "output_type": "error",
          "ename": "NameError",
          "evalue": "ignored",
          "traceback": [
            "\u001b[0;31m---------------------------------------------------------------------------\u001b[0m",
            "\u001b[0;31mNameError\u001b[0m                                 Traceback (most recent call last)",
            "\u001b[0;32m<ipython-input-30-04cee9e0e5c6>\u001b[0m in \u001b[0;36m<module>\u001b[0;34m()\u001b[0m\n\u001b[1;32m      1\u001b[0m \u001b[0;31m# Split Data --training 75% and testing 25%\u001b[0m\u001b[0;34m\u001b[0m\u001b[0;34m\u001b[0m\u001b[0;34m\u001b[0m\u001b[0m\n\u001b[0;32m----> 2\u001b[0;31m \u001b[0mx_train\u001b[0m\u001b[0;34m,\u001b[0m \u001b[0mxtest\u001b[0m\u001b[0;34m,\u001b[0m \u001b[0my_train\u001b[0m\u001b[0;34m,\u001b[0m \u001b[0my_test\u001b[0m \u001b[0;34m=\u001b[0m \u001b[0mtrain_test_split\u001b[0m\u001b[0;34m(\u001b[0m\u001b[0mX_value\u001b[0m\u001b[0;34m,\u001b[0m\u001b[0my_value\u001b[0m\u001b[0;34m,\u001b[0m \u001b[0mtest_size\u001b[0m \u001b[0;34m=\u001b[0m \u001b[0;36m0.25\u001b[0m\u001b[0;34m)\u001b[0m\u001b[0;34m\u001b[0m\u001b[0;34m\u001b[0m\u001b[0m\n\u001b[0m\u001b[1;32m      3\u001b[0m \u001b[0mxtest\u001b[0m\u001b[0;34m.\u001b[0m\u001b[0mshape\u001b[0m\u001b[0;34m\u001b[0m\u001b[0;34m\u001b[0m\u001b[0m\n",
            "\u001b[0;31mNameError\u001b[0m: name 'X_value' is not defined"
          ]
        }
      ]
    },
    {
      "cell_type": "code",
      "metadata": {
        "id": "4Y83dhVUM3mh"
      },
      "source": [
        "# Creating the Model\r\n",
        "# Decision tree regressor model\r\n",
        "tree = DecisionTreeRegressor().fit(x_train, y_train)\r\n",
        "\r\n",
        "#Create the linear regression model\r\n",
        "linearR  = LinearRegression().fit(x_train, y_train)"
      ],
      "execution_count": null,
      "outputs": []
    },
    {
      "cell_type": "code",
      "metadata": {
        "id": "P6TmYHZpNim2"
      },
      "source": [
        "# Getting the future dataset rows\r\n",
        "r_future = Close_df.drop(['Prediction'],1)[:-future]\r\n",
        "r_future = r_future.tail(future)\r\n",
        "r_future = np.array(r_future)\r\n"
      ],
      "execution_count": null,
      "outputs": []
    },
    {
      "cell_type": "code",
      "metadata": {
        "colab": {
          "base_uri": "https://localhost:8080/"
        },
        "id": "9wU1GMLo-U_4",
        "outputId": "b08a7980-480e-461a-dcf1-58a44ac9ce5c"
      },
      "source": [
        "# print the values for both models\r\n",
        "\r\n",
        "# Model tree prediction\r\n",
        "tree_prediction = tree.predict(r_future)\r\n",
        "print('----Tree Prediction Data--------')\r\n",
        "print(tree_prediction)\r\n",
        "\r\n",
        "#Model linear regression prediction\r\n",
        "LR_Prediction = linearR.predict(r_future)\r\n",
        "print('')\r\n",
        "print('----Linear Prediction Data--------')\r\n",
        "print(LR_Prediction)"
      ],
      "execution_count": null,
      "outputs": [
        {
          "output_type": "stream",
          "text": [
            "----Tree Prediction Data--------\n",
            "[120.98999786 133.94000244 137.38999939 136.75999451 126.\n",
            " 136.00999451 121.02999878 135.13000488 135.36999512 136.00999451\n",
            " 130.83999634 129.71000671 129.86999512 126.         136.00999451\n",
            " 125.34999847 120.98999786 121.26000214 127.79000092 125.12000275\n",
            " 122.05999756 136.00999451 121.02999878 116.36000061 121.08999634\n",
            " 121.08999634 121.95999908 121.02999878 123.98999786 121.19000244]\n",
            "\n",
            "----Linear Prediction Data--------\n",
            "[133.65357499 131.53303504 133.16501634 136.95914168 136.0028185\n",
            " 137.05269142 141.95905617 140.06718806 138.87178805 137.80112101\n",
            " 134.39161546 136.05478    131.47066062 135.96123027 137.13585202\n",
            " 133.94462918 133.75752971 135.93004702 133.87187356 132.03198281\n",
            " 132.74922917 137.11505791 142.14615564 144.43303266 148.43503573\n",
            " 148.68451755 147.54107904 142.37484334 137.04230229 139.30836933]\n"
          ],
          "name": "stdout"
        }
      ]
    },
    {
      "cell_type": "code",
      "metadata": {
        "colab": {
          "base_uri": "https://localhost:8080/",
          "height": 677
        },
        "id": "wF54kbNGPjGw",
        "outputId": "e2308e6a-4590-4095-ba3c-a082d8efc040"
      },
      "source": [
        "# Visual\r\n",
        "predictionsTree = tree_prediction\r\n",
        "\r\n",
        "validTree = Close_df[X_value.shape[0]:]\r\n",
        "validTree['Predictions'] = predictionsTree\r\n",
        "\r\n",
        "plt.figure(figsize=(16,8))\r\n",
        "plt.title('AAPL Stock Price - Tree Prediction Model', color='blue')\r\n",
        "plt.xlabel('date', color='crimson')\r\n",
        "plt.ylabel('closing price USD', color='crimson')\r\n",
        "\r\n",
        "plt.plot(Close_df['Close'], color='darkblue')\r\n",
        "plt.plot(validTree[['Close','Predictions']])\r\n",
        "#plt.plot(validLR[['Close','Predictionslr' ]], color='green')\r\n",
        "\r\n",
        "\r\n",
        "plt.legend(['Train Data', 'Validation','Predicted'])\r\n",
        "\r\n",
        "\r\n",
        "\r\n"
      ],
      "execution_count": null,
      "outputs": [
        {
          "output_type": "stream",
          "text": [
            "/usr/local/lib/python3.7/dist-packages/ipykernel_launcher.py:5: SettingWithCopyWarning: \n",
            "A value is trying to be set on a copy of a slice from a DataFrame.\n",
            "Try using .loc[row_indexer,col_indexer] = value instead\n",
            "\n",
            "See the caveats in the documentation: https://pandas.pydata.org/pandas-docs/stable/user_guide/indexing.html#returning-a-view-versus-a-copy\n",
            "  \"\"\"\n"
          ],
          "name": "stderr"
        },
        {
          "output_type": "execute_result",
          "data": {
            "text/plain": [
              "<matplotlib.legend.Legend at 0x7f3f0b52da50>"
            ]
          },
          "metadata": {
            "tags": []
          },
          "execution_count": 266
        },
        {
          "output_type": "display_data",
          "data": {
            "image/png": "[encoded data removed]",
            "text/plain": [
              "<Figure size 1152x576 with 1 Axes>"
            ]
          },
          "metadata": {
            "tags": []
          }
        }
      ]
    },
    {
      "cell_type": "code",
      "metadata": {
        "colab": {
          "base_uri": "https://localhost:8080/",
          "height": 677
        },
        "id": "i_vKzKi89P5W",
        "outputId": "12ea0428-5ef9-4a4e-efca-573ba2b76e2a"
      },
      "source": [
        "# Visual\r\n",
        "\r\n",
        "predictionslr = LR_Prediction\r\n",
        "\r\n",
        "validLR = Close_df[X_value.shape[0]:]\r\n",
        "validLR['Predictionslr'] = predictionslr\r\n",
        "\r\n",
        "\r\n",
        "plt.figure(figsize=(16,8))\r\n",
        "\r\n",
        "plt.title('AAPL Stock Price - Linear Regression Model', color='blue')\r\n",
        "plt.xlabel('date', color='crimson')\r\n",
        "plt.ylabel('closing price USD', color='crimson')\r\n",
        "\r\n",
        "plt.plot(Close_df['Close'], color='darkblue')\r\n",
        "#plt.plot(validTree[['Close','Predictions']])\r\n",
        "plt.plot(validLR[['Close','Predictionslr' ]])\r\n",
        "\r\n",
        "\r\n",
        "plt.legend(['Train', 'Validation','Prediction'])\r\n"
      ],
      "execution_count": null,
      "outputs": [
        {
          "output_type": "stream",
          "text": [
            "/usr/local/lib/python3.7/dist-packages/ipykernel_launcher.py:6: SettingWithCopyWarning: \n",
            "A value is trying to be set on a copy of a slice from a DataFrame.\n",
            "Try using .loc[row_indexer,col_indexer] = value instead\n",
            "\n",
            "See the caveats in the documentation: https://pandas.pydata.org/pandas-docs/stable/user_guide/indexing.html#returning-a-view-versus-a-copy\n",
            "  \n"
          ],
          "name": "stderr"
        },
        {
          "output_type": "execute_result",
          "data": {
            "text/plain": [
              "<matplotlib.legend.Legend at 0x7f3f0ba26310>"
            ]
          },
          "metadata": {
            "tags": []
          },
          "execution_count": 255
        },
        {
          "output_type": "display_data",
          "data": {
            "image/png": "[encoded data removed]",
            "text/plain": [
              "<Figure size 1152x576 with 1 Axes>"
            ]
          },
          "metadata": {
            "tags": []
          }
        }
      ]
    }
  ]
}